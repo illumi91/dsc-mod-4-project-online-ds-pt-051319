{
 "cells": [
  {
   "cell_type": "markdown",
   "metadata": {},
   "source": [
    "# Mod 4 Project - Starter Notebook\n",
    "\n",
    "This notebook has been provided to you so that you can make use of the following starter code to help with the trickier parts of preprocessing the Zillow dataset. \n",
    "\n",
    "The notebook contains a rough outline the general order you'll likely want to take in this project. You'll notice that most of the areas are left blank. This is so that it's more obvious exactly when you should make use of the starter code provided for preprocessing. \n",
    "\n",
    "**_NOTE:_** The number of empty cells are not meant to infer how much or how little code should be involved in any given step--we've just provided a few for your convenience. Add, delete, and change things around in this notebook as needed!\n",
    "\n",
    "# Some Notes Before Starting\n",
    "\n",
    "This project will be one of the more challenging projects you complete in this program. This is because working with Time Series data is a bit different than working with regular datasets. In order to make this a bit less frustrating and help you understand what you need to do (and when you need to do it), we'll quickly review the dataset formats that you'll encounter in this project. \n",
    "\n",
    "## Wide Format vs Long Format\n",
    "\n",
    "If you take a look at the format of the data in `zillow_data.csv`, you'll notice that the actual Time Series values are stored as separate columns. Here's a sample: \n",
    "\n",
    "<img src='~/../images/df_head.png'>\n",
    "\n",
    "You'll notice that the first seven columns look like any other dataset you're used to working with. However, column 8 refers to the median housing sales values for April 1996, column 9 for May 1996, and so on. This This is called **_Wide Format_**, and it makes the dataframe intuitive and easy to read. However, there are problems with this format when it comes to actually learning from the data, because the data only makes sense if you know the name of the column that the data can be found it. Since column names are metadata, our algorithms will miss out on what dates each value is for. This means that before we pass this data to our ARIMA model, we'll need to reshape our dataset to **_Long Format_**. Reshaped into long format, the dataframe above would now look like:\n",
    "\n",
    "<img src='~/../images/melted1.png'>\n",
    "\n",
    "There are now many more rows in this dataset--one for each unique time and zipcode combination in the data! Once our dataset is in this format, we'll be able to train an ARIMA model on it. The method used to convert from Wide to Long is `pd.melt()`, and it is common to refer to our dataset as 'melted' after the transition to denote that it is in long format. \n",
    "\n",
    "# Helper Functions Provided\n",
    "\n",
    "Melting a dataset can be tricky if you've never done it before, so you'll see that we have provided a sample function, `melt_data()`, to help you with this step below. Also provided is:\n",
    "\n",
    "* `get_datetimes()`, a function to deal with converting the column values for datetimes as a pandas series of datetime objects\n",
    "* Some good parameters for matplotlib to help make your visualizations more readable. \n",
    "\n",
    "Good luck!\n",
    "\n",
    "\n",
    "# Step 1: Load the Data/Filtering for Chosen Zipcodes"
   ]
  },
  {
   "cell_type": "markdown",
   "metadata": {},
   "source": [
    "# Mod 4 Project - Starter Notebook\n",
    "\n",
    "This notebook has been provided to you so that you can make use of the following starter code to help with the trickier parts of preprocessing the Zillow dataset. \n",
    "\n",
    "The notebook contains a rough outline the general order you'll likely want to take in this project. You'll notice that most of the areas are left blank. This is so that it's more obvious exactly when you should make use of the starter code provided for preprocessing. \n",
    "\n",
    "**_NOTE:_** The number of empty cells are not meant to infer how much or how little code should be involved in any given step--we've just provided a few for your convenience. Add, delete, and change things around in this notebook as needed!\n",
    "\n",
    "# Some Notes Before Starting\n",
    "\n",
    "This project will be one of the more challenging projects you complete in this program. This is because working with Time Series data is a bit different than working with regular datasets. In order to make this a bit less frustrating and help you understand what you need to do (and when you need to do it), we'll quickly review the dataset formats that you'll encounter in this project. \n",
    "\n",
    "## Wide Format vs Long Format\n",
    "\n",
    "If you take a look at the format of the data in `zillow_data.csv`, you'll notice that the actual Time Series values are stored as separate columns. Here's a sample: \n",
    "\n",
    "<img src='~/../images/df_head.png'>\n",
    "\n",
    "You'll notice that the first seven columns look like any other dataset you're used to working with. However, column 8 refers to the median housing sales values for April 1996, column 9 for May 1996, and so on. This This is called **_Wide Format_**, and it makes the dataframe intuitive and easy to read. However, there are problems with this format when it comes to actually learning from the data, because the data only makes sense if you know the name of the column that the data can be found it. Since column names are metadata, our algorithms will miss out on what dates each value is for. This means that before we pass this data to our ARIMA model, we'll need to reshape our dataset to **_Long Format_**. Reshaped into long format, the dataframe above would now look like:\n",
    "\n",
    "<img src='~/../images/melted1.png'>\n",
    "\n",
    "There are now many more rows in this dataset--one for each unique time and zipcode combination in the data! Once our dataset is in this format, we'll be able to train an ARIMA model on it. The method used to convert from Wide to Long is `pd.melt()`, and it is common to refer to our dataset as 'melted' after the transition to denote that it is in long format. \n",
    "\n",
    "# Helper Functions Provided\n",
    "\n",
    "Melting a dataset can be tricky if you've never done it before, so you'll see that we have provided a sample function, `melt_data()`, to help you with this step below. Also provided is:\n",
    "\n",
    "* `get_datetimes()`, a function to deal with converting the column values for datetimes as a pandas series of datetime objects\n",
    "* Some good parameters for matplotlib to help make your visualizations more readable. \n",
    "\n",
    "Good luck!\n",
    "\n",
    "\n",
    "# Step 1: Load the Data/Filtering for Chosen Zipcodes"
   ]
  },
  {
   "cell_type": "code",
   "execution_count": 1,
   "metadata": {},
   "outputs": [],
   "source": [
    "ls"
   ]
  },
  {
   "cell_type": "code",
   "execution_count": 2,
   "metadata": {},
   "outputs": [],
   "source": [
    "import pandas as pd\n",
    "import matplotlib.pyplot as plt\n",
    "%matplotlib inline\n",
    "\n",
    "import warnings\n",
    "from statsmodels.tsa.arima_model import ARIMA\n",
    "from sklearn.metrics import mean_squared_error"
   ]
  },
  {
   "cell_type": "code",
   "execution_count": 3,
   "metadata": {},
   "outputs": [
    {
     "data": {
      "text/html": [
       "<div>\n",
       "<style scoped>\n",
       "    .dataframe tbody tr th:only-of-type {\n",
       "        vertical-align: middle;\n",
       "    }\n",
       "\n",
       "    .dataframe tbody tr th {\n",
       "        vertical-align: top;\n",
       "    }\n",
       "\n",
       "    .dataframe thead th {\n",
       "        text-align: right;\n",
       "    }\n",
       "</style>\n",
       "<table border=\"1\" class=\"dataframe\">\n",
       "  <thead>\n",
       "    <tr style=\"text-align: right;\">\n",
       "      <th></th>\n",
       "      <th>RegionID</th>\n",
       "      <th>RegionName</th>\n",
       "      <th>City</th>\n",
       "      <th>State</th>\n",
       "      <th>Metro</th>\n",
       "      <th>CountyName</th>\n",
       "      <th>SizeRank</th>\n",
       "      <th>1996-04</th>\n",
       "      <th>1996-05</th>\n",
       "      <th>1996-06</th>\n",
       "      <th>...</th>\n",
       "      <th>2017-07</th>\n",
       "      <th>2017-08</th>\n",
       "      <th>2017-09</th>\n",
       "      <th>2017-10</th>\n",
       "      <th>2017-11</th>\n",
       "      <th>2017-12</th>\n",
       "      <th>2018-01</th>\n",
       "      <th>2018-02</th>\n",
       "      <th>2018-03</th>\n",
       "      <th>2018-04</th>\n",
       "    </tr>\n",
       "  </thead>\n",
       "  <tbody>\n",
       "    <tr>\n",
       "      <th>0</th>\n",
       "      <td>84654</td>\n",
       "      <td>60657</td>\n",
       "      <td>Chicago</td>\n",
       "      <td>IL</td>\n",
       "      <td>Chicago</td>\n",
       "      <td>Cook</td>\n",
       "      <td>1</td>\n",
       "      <td>334200.0</td>\n",
       "      <td>335400.0</td>\n",
       "      <td>336500.0</td>\n",
       "      <td>...</td>\n",
       "      <td>1005500</td>\n",
       "      <td>1007500</td>\n",
       "      <td>1007800</td>\n",
       "      <td>1009600</td>\n",
       "      <td>1013300</td>\n",
       "      <td>1018700</td>\n",
       "      <td>1024400</td>\n",
       "      <td>1030700</td>\n",
       "      <td>1033800</td>\n",
       "      <td>1030600</td>\n",
       "    </tr>\n",
       "    <tr>\n",
       "      <th>1</th>\n",
       "      <td>90668</td>\n",
       "      <td>75070</td>\n",
       "      <td>McKinney</td>\n",
       "      <td>TX</td>\n",
       "      <td>Dallas-Fort Worth</td>\n",
       "      <td>Collin</td>\n",
       "      <td>2</td>\n",
       "      <td>235700.0</td>\n",
       "      <td>236900.0</td>\n",
       "      <td>236700.0</td>\n",
       "      <td>...</td>\n",
       "      <td>308000</td>\n",
       "      <td>310000</td>\n",
       "      <td>312500</td>\n",
       "      <td>314100</td>\n",
       "      <td>315000</td>\n",
       "      <td>316600</td>\n",
       "      <td>318100</td>\n",
       "      <td>319600</td>\n",
       "      <td>321100</td>\n",
       "      <td>321800</td>\n",
       "    </tr>\n",
       "    <tr>\n",
       "      <th>2</th>\n",
       "      <td>91982</td>\n",
       "      <td>77494</td>\n",
       "      <td>Katy</td>\n",
       "      <td>TX</td>\n",
       "      <td>Houston</td>\n",
       "      <td>Harris</td>\n",
       "      <td>3</td>\n",
       "      <td>210400.0</td>\n",
       "      <td>212200.0</td>\n",
       "      <td>212200.0</td>\n",
       "      <td>...</td>\n",
       "      <td>321000</td>\n",
       "      <td>320600</td>\n",
       "      <td>320200</td>\n",
       "      <td>320400</td>\n",
       "      <td>320800</td>\n",
       "      <td>321200</td>\n",
       "      <td>321200</td>\n",
       "      <td>323000</td>\n",
       "      <td>326900</td>\n",
       "      <td>329900</td>\n",
       "    </tr>\n",
       "    <tr>\n",
       "      <th>3</th>\n",
       "      <td>84616</td>\n",
       "      <td>60614</td>\n",
       "      <td>Chicago</td>\n",
       "      <td>IL</td>\n",
       "      <td>Chicago</td>\n",
       "      <td>Cook</td>\n",
       "      <td>4</td>\n",
       "      <td>498100.0</td>\n",
       "      <td>500900.0</td>\n",
       "      <td>503100.0</td>\n",
       "      <td>...</td>\n",
       "      <td>1289800</td>\n",
       "      <td>1287700</td>\n",
       "      <td>1287400</td>\n",
       "      <td>1291500</td>\n",
       "      <td>1296600</td>\n",
       "      <td>1299000</td>\n",
       "      <td>1302700</td>\n",
       "      <td>1306400</td>\n",
       "      <td>1308500</td>\n",
       "      <td>1307000</td>\n",
       "    </tr>\n",
       "    <tr>\n",
       "      <th>4</th>\n",
       "      <td>93144</td>\n",
       "      <td>79936</td>\n",
       "      <td>El Paso</td>\n",
       "      <td>TX</td>\n",
       "      <td>El Paso</td>\n",
       "      <td>El Paso</td>\n",
       "      <td>5</td>\n",
       "      <td>77300.0</td>\n",
       "      <td>77300.0</td>\n",
       "      <td>77300.0</td>\n",
       "      <td>...</td>\n",
       "      <td>119100</td>\n",
       "      <td>119400</td>\n",
       "      <td>120000</td>\n",
       "      <td>120300</td>\n",
       "      <td>120300</td>\n",
       "      <td>120300</td>\n",
       "      <td>120300</td>\n",
       "      <td>120500</td>\n",
       "      <td>121000</td>\n",
       "      <td>121500</td>\n",
       "    </tr>\n",
       "  </tbody>\n",
       "</table>\n",
       "<p>5 rows × 272 columns</p>\n",
       "</div>"
      ],
      "text/plain": [
       "   RegionID  RegionName      City State              Metro CountyName  \\\n",
       "0     84654       60657   Chicago    IL            Chicago       Cook   \n",
       "1     90668       75070  McKinney    TX  Dallas-Fort Worth     Collin   \n",
       "2     91982       77494      Katy    TX            Houston     Harris   \n",
       "3     84616       60614   Chicago    IL            Chicago       Cook   \n",
       "4     93144       79936   El Paso    TX            El Paso    El Paso   \n",
       "\n",
       "   SizeRank   1996-04   1996-05   1996-06  ...  2017-07  2017-08  2017-09  \\\n",
       "0         1  334200.0  335400.0  336500.0  ...  1005500  1007500  1007800   \n",
       "1         2  235700.0  236900.0  236700.0  ...   308000   310000   312500   \n",
       "2         3  210400.0  212200.0  212200.0  ...   321000   320600   320200   \n",
       "3         4  498100.0  500900.0  503100.0  ...  1289800  1287700  1287400   \n",
       "4         5   77300.0   77300.0   77300.0  ...   119100   119400   120000   \n",
       "\n",
       "   2017-10  2017-11  2017-12  2018-01  2018-02  2018-03  2018-04  \n",
       "0  1009600  1013300  1018700  1024400  1030700  1033800  1030600  \n",
       "1   314100   315000   316600   318100   319600   321100   321800  \n",
       "2   320400   320800   321200   321200   323000   326900   329900  \n",
       "3  1291500  1296600  1299000  1302700  1306400  1308500  1307000  \n",
       "4   120300   120300   120300   120300   120500   121000   121500  \n",
       "\n",
       "[5 rows x 272 columns]"
      ]
     },
     "execution_count": 3,
     "metadata": {},
     "output_type": "execute_result"
    }
   ],
   "source": [
    "df = pd.read_csv('zillow_data.csv')\n",
    "df.head()"
   ]
  },
  {
   "cell_type": "code",
   "execution_count": 4,
   "metadata": {},
   "outputs": [
    {
     "name": "stdout",
     "output_type": "stream",
     "text": [
      "<class 'pandas.core.frame.DataFrame'>\n",
      "RangeIndex: 14723 entries, 0 to 14722\n",
      "Columns: 272 entries, RegionID to 2018-04\n",
      "dtypes: float64(219), int64(49), object(4)\n",
      "memory usage: 30.6+ MB\n"
     ]
    }
   ],
   "source": [
    "df.info()"
   ]
  },
  {
   "cell_type": "code",
   "execution_count": 5,
   "metadata": {},
   "outputs": [],
   "source": [
    "df.drop('RegionID', axis=1, inplace=True)"
   ]
  },
  {
   "cell_type": "code",
   "execution_count": 6,
   "metadata": {},
   "outputs": [],
   "source": [
    "df.drop('SizeRank', axis=1, inplace=True)"
   ]
  },
  {
   "cell_type": "code",
   "execution_count": 7,
   "metadata": {},
   "outputs": [
    {
     "data": {
      "text/plain": [
       "(37, 270)"
      ]
     },
     "execution_count": 7,
     "metadata": {},
     "output_type": "execute_result"
    }
   ],
   "source": [
    "df[df['City'] == 'Kansas City'].shape"
   ]
  },
  {
   "cell_type": "code",
   "execution_count": 34,
   "metadata": {},
   "outputs": [],
   "source": [
    "def melt_data(df):\n",
    "    melted = pd.melt(df, id_vars=['RegionName', 'City', 'State', 'Metro', 'CountyName'], var_name='time')\n",
    "    melted['time'] = pd.to_datetime(melted['time'], infer_datetime_format=True)\n",
    "    melted = melted.dropna(subset=['value'])\n",
    "    return melted.groupby('time').aggregate({'value':'mean'})\n",
    "\n",
    "\n",
    "# evaluate an ARIMA model for a given order (p,d,q)\n",
    "def evaluate_arima_model(X, arima_order):\n",
    "    # prepare training dataset\n",
    "    train_size = int(len(X) * 0.66)\n",
    "    train, test = X[0:train_size], X[train_size:]\n",
    "    history = [x for x in train]\n",
    "    # make predictions\n",
    "    predictions = list()\n",
    "    for t in range(len(test)):\n",
    "        model = ARIMA(history, order=arima_order)\n",
    "        model_fit = model.fit(disp=0)\n",
    "        yhat = model_fit.forecast()[0]\n",
    "        predictions.append(yhat)\n",
    "        history.append(test[t])\n",
    "    # calculate out of sample error\n",
    "    error = mean_squared_error(test, predictions)\n",
    "    return error\n",
    " \n",
    "# evaluate combinations of p, d and q values for an ARIMA model\n",
    "def evaluate_models(dataset, p_values, d_values, q_values):\n",
    "    dataset = dataset.astype('float32')\n",
    "    best_score, best_cfg = float(\"inf\"), None\n",
    "    for p in p_values:\n",
    "        for d in d_values:\n",
    "            for q in q_values:\n",
    "                order = (p,d,q)\n",
    "                try:\n",
    "                    mse = evaluate_arima_model(dataset, order)\n",
    "                    if mse < best_score:\n",
    "                        best_score, best_cfg = mse, order\n",
    "                    print('ARIMA%s MSE=%.3f' % (order,mse))\n",
    "                except:\n",
    "                    continue\n",
    "    print('Best ARIMA%s MSE=%.3f' % (best_cfg, best_score))\n",
    "    return best_cfg\n",
    "\n",
    "\n"
   ]
  },
  {
   "cell_type": "code",
   "execution_count": 11,
   "metadata": {},
   "outputs": [
    {
     "name": "stdout",
     "output_type": "stream",
     "text": [
      "64119\n",
      "64114\n",
      "64151\n",
      "64111\n",
      "66102\n",
      "64131\n",
      "66104\n",
      "64155\n",
      "66109\n",
      "64134\n",
      "64116\n",
      "66106\n",
      "64157\n",
      "64110\n",
      "64117\n",
      "66103\n",
      "64112\n",
      "66112\n",
      "64154\n",
      "64108\n",
      "64113\n",
      "64106\n",
      "64124\n",
      "64137\n",
      "64105\n",
      "64129\n",
      "64123\n",
      "66111\n",
      "64126\n",
      "64156\n",
      "64153\n",
      "64158\n",
      "64145\n",
      "64136\n",
      "64125\n",
      "64139\n",
      "64146\n"
     ]
    }
   ],
   "source": [
    "for index, x in df[df['City'] == 'Kansas City'].iterrows():\n",
    "    print(x['RegionName'])"
   ]
  },
  {
   "cell_type": "code",
   "execution_count": 14,
   "metadata": {},
   "outputs": [
    {
     "name": "stderr",
     "output_type": "stream",
     "text": [
      "C:\\Users\\luigi\\Anaconda3\\lib\\site-packages\\statsmodels\\tsa\\base\\tsa_model.py:171: ValueWarning: No frequency information was provided, so inferred frequency MS will be used.\n",
      "  % freq, ValueWarning)\n",
      "C:\\Users\\luigi\\Anaconda3\\lib\\site-packages\\statsmodels\\tsa\\base\\tsa_model.py:191: FutureWarning: Creating a DatetimeIndex by passing range endpoints is deprecated.  Use `pandas.date_range` instead.\n",
      "  start=index[0], end=index[-1], freq=freq)\n",
      "C:\\Users\\luigi\\Anaconda3\\lib\\site-packages\\statsmodels\\tsa\\base\\tsa_model.py:171: ValueWarning: No frequency information was provided, so inferred frequency MS will be used.\n",
      "  % freq, ValueWarning)\n"
     ]
    }
   ],
   "source": [
    "series = melt_data(df.loc[[2919]])\n",
    "model= ARIMA(series, order=(1,1,1))\n",
    "model_fit= model.fit()"
   ]
  },
  {
   "cell_type": "code",
   "execution_count": 16,
   "metadata": {},
   "outputs": [
    {
     "data": {
      "text/plain": [
       "array([143073.61560612, 143331.26046148, 143577.72436054, 143816.36058853,\n",
       "       144049.51674551, 144278.83636184])"
      ]
     },
     "execution_count": 16,
     "metadata": {},
     "output_type": "execute_result"
    }
   ],
   "source": [
    "model_fit.forecast(steps=12)[0]"
   ]
  },
  {
   "cell_type": "code",
   "execution_count": 29,
   "metadata": {},
   "outputs": [
    {
     "data": {
      "text/plain": [
       "0.05679732209422842"
      ]
     },
     "execution_count": 29,
     "metadata": {},
     "output_type": "execute_result"
    }
   ],
   "source": [
    "six_months = model_fit.forecast(steps=36)[0][-1]\n",
    "(six_months - today)/today"
   ]
  },
  {
   "cell_type": "code",
   "execution_count": null,
   "metadata": {},
   "outputs": [],
   "source": [
    "series"
   ]
  },
  {
   "cell_type": "code",
   "execution_count": 26,
   "metadata": {},
   "outputs": [],
   "source": [
    "today = series.iloc[-1].value"
   ]
  },
  {
   "cell_type": "code",
   "execution_count": 38,
   "metadata": {
    "scrolled": false
   },
   "outputs": [
    {
     "name": "stdout",
     "output_type": "stream",
     "text": [
      "64119\n",
      "ARIMA(0, 0, 0) MSE=93611590.076\n",
      "ARIMA(0, 0, 1) MSE=24344135.774\n",
      "ARIMA(0, 1, 0) MSE=875810.127\n",
      "ARIMA(0, 1, 1) MSE=351653.230\n",
      "ARIMA(1, 0, 0) MSE=921897.011\n",
      "ARIMA(1, 1, 0) MSE=337473.443\n",
      "ARIMA(1, 1, 1) MSE=256744.799\n",
      "ARIMA(2, 0, 0) MSE=338327.407\n",
      "ARIMA(2, 0, 1) MSE=259557.192\n",
      "ARIMA(2, 1, 0) MSE=291309.276\n",
      "ARIMA(2, 1, 1) MSE=259864.982\n",
      "Best ARIMA(1, 1, 1) MSE=256744.799\n",
      "64114\n",
      "ARIMA(0, 0, 0) MSE=559210333.009\n",
      "ARIMA(0, 0, 1) MSE=144359078.033\n",
      "ARIMA(0, 1, 0) MSE=881044.928\n",
      "ARIMA(0, 1, 1) MSE=322385.536\n",
      "ARIMA(1, 0, 0) MSE=1130423.428\n",
      "ARIMA(1, 1, 0) MSE=182842.663\n",
      "ARIMA(1, 1, 1) MSE=157165.738\n",
      "ARIMA(2, 0, 0) MSE=185511.413\n",
      "ARIMA(2, 1, 0) MSE=170707.770\n",
      "ARIMA(2, 1, 1) MSE=159283.549\n",
      "Best ARIMA(1, 1, 1) MSE=157165.738\n",
      "64151\n",
      "ARIMA(0, 0, 0) MSE=348965340.874\n",
      "ARIMA(0, 0, 1) MSE=90068757.065\n",
      "ARIMA(0, 1, 0) MSE=1476214.284\n",
      "ARIMA(0, 1, 1) MSE=555361.512\n",
      "ARIMA(1, 0, 0) MSE=1611215.523\n",
      "ARIMA(1, 1, 0) MSE=589199.533\n",
      "ARIMA(1, 1, 1) MSE=372531.470\n",
      "ARIMA(2, 0, 0) MSE=593654.932\n",
      "ARIMA(2, 0, 1) MSE=379476.445\n",
      "ARIMA(2, 1, 0) MSE=422441.139\n",
      "ARIMA(2, 1, 1) MSE=357723.083\n",
      "Best ARIMA(2, 1, 1) MSE=357723.083\n",
      "64111\n",
      "ARIMA(0, 0, 0) MSE=1046478451.082\n",
      "ARIMA(0, 0, 1) MSE=268239852.715\n",
      "ARIMA(0, 1, 0) MSE=1320317.965\n",
      "ARIMA(0, 1, 1) MSE=442952.078\n",
      "ARIMA(1, 0, 0) MSE=1681559.936\n",
      "ARIMA(1, 1, 0) MSE=319922.896\n",
      "ARIMA(1, 1, 1) MSE=230671.390\n",
      "ARIMA(2, 0, 0) MSE=325903.166\n",
      "ARIMA(2, 1, 0) MSE=291122.050\n",
      "ARIMA(2, 1, 1) MSE=234076.938\n",
      "Best ARIMA(1, 1, 1) MSE=230671.390\n",
      "66102\n",
      "ARIMA(0, 0, 0) MSE=309201073.471\n",
      "ARIMA(0, 1, 0) MSE=730242.214\n",
      "ARIMA(0, 1, 1) MSE=302242.199\n",
      "ARIMA(1, 1, 0) MSE=208462.255\n",
      "ARIMA(1, 1, 1) MSE=191855.952\n",
      "ARIMA(2, 0, 1) MSE=192234.200\n",
      "ARIMA(2, 1, 0) MSE=204267.921\n",
      "ARIMA(2, 1, 1) MSE=189578.085\n",
      "Best ARIMA(2, 1, 1) MSE=189578.085\n",
      "64131\n",
      "ARIMA(0, 0, 0) MSE=232139298.370\n",
      "ARIMA(0, 0, 1) MSE=59730963.958\n",
      "ARIMA(0, 1, 0) MSE=904157.486\n",
      "ARIMA(0, 1, 1) MSE=348353.288\n",
      "ARIMA(1, 0, 0) MSE=976655.899\n",
      "ARIMA(1, 1, 0) MSE=242356.072\n",
      "ARIMA(1, 1, 1) MSE=178909.643\n",
      "ARIMA(2, 0, 0) MSE=242725.226\n",
      "ARIMA(2, 0, 1) MSE=180343.328\n",
      "ARIMA(2, 1, 0) MSE=205178.700\n",
      "ARIMA(2, 1, 1) MSE=178953.122\n",
      "Best ARIMA(1, 1, 1) MSE=178909.643\n",
      "66104\n",
      "ARIMA(0, 0, 0) MSE=402167993.965\n",
      "ARIMA(0, 1, 0) MSE=707218.505\n",
      "ARIMA(0, 1, 1) MSE=261610.613\n",
      "ARIMA(1, 1, 0) MSE=245209.506\n",
      "ARIMA(2, 0, 1) MSE=176771.260\n",
      "ARIMA(2, 1, 0) MSE=209465.978\n",
      "ARIMA(2, 1, 1) MSE=181514.236\n",
      "Best ARIMA(2, 0, 1) MSE=176771.260\n",
      "64155\n",
      "ARIMA(0, 0, 0) MSE=350738953.197\n",
      "ARIMA(0, 0, 1) MSE=90381034.697\n",
      "ARIMA(0, 1, 0) MSE=880585.902\n",
      "ARIMA(0, 1, 1) MSE=321075.701\n",
      "ARIMA(1, 0, 0) MSE=1027629.161\n",
      "ARIMA(1, 1, 0) MSE=403036.680\n",
      "ARIMA(1, 1, 1) MSE=255431.359\n",
      "ARIMA(2, 0, 0) MSE=410202.983\n",
      "ARIMA(2, 0, 1) MSE=262988.060\n",
      "ARIMA(2, 1, 0) MSE=343982.004\n",
      "ARIMA(2, 1, 1) MSE=257561.217\n",
      "Best ARIMA(1, 1, 1) MSE=255431.359\n",
      "66109\n",
      "ARIMA(0, 0, 0) MSE=437244681.925\n",
      "ARIMA(0, 0, 1) MSE=112558202.706\n",
      "ARIMA(0, 1, 0) MSE=1450302.123\n",
      "ARIMA(0, 1, 1) MSE=546690.772\n",
      "ARIMA(1, 0, 0) MSE=1631513.648\n",
      "ARIMA(1, 1, 0) MSE=474070.524\n",
      "ARIMA(1, 1, 1) MSE=355338.319\n",
      "ARIMA(2, 0, 0) MSE=478354.407\n",
      "ARIMA(2, 1, 0) MSE=456894.424\n",
      "ARIMA(2, 1, 1) MSE=358810.257\n",
      "Best ARIMA(1, 1, 1) MSE=355338.319\n",
      "64134\n",
      "ARIMA(0, 0, 0) MSE=255146346.458\n",
      "ARIMA(0, 1, 0) MSE=700681.155\n",
      "ARIMA(0, 1, 1) MSE=278811.170\n",
      "ARIMA(1, 1, 0) MSE=280967.115\n",
      "ARIMA(1, 1, 1) MSE=214217.993\n",
      "ARIMA(2, 1, 0) MSE=252179.031\n",
      "ARIMA(2, 1, 1) MSE=216196.534\n",
      "Best ARIMA(1, 1, 1) MSE=214217.993\n",
      "64116\n",
      "ARIMA(0, 0, 0) MSE=138843629.088\n",
      "ARIMA(0, 0, 1) MSE=36432457.068\n",
      "ARIMA(0, 1, 0) MSE=904780.627\n",
      "ARIMA(0, 1, 1) MSE=339553.586\n",
      "ARIMA(1, 0, 0) MSE=1010416.082\n",
      "ARIMA(1, 1, 0) MSE=339119.725\n",
      "ARIMA(1, 1, 1) MSE=241521.751\n",
      "ARIMA(2, 0, 0) MSE=341456.542\n",
      "ARIMA(2, 0, 1) MSE=244732.991\n",
      "ARIMA(2, 1, 0) MSE=268419.561\n",
      "ARIMA(2, 1, 1) MSE=243622.719\n",
      "Best ARIMA(1, 1, 1) MSE=241521.751\n",
      "66106\n",
      "ARIMA(0, 0, 0) MSE=247231778.541\n",
      "ARIMA(0, 0, 1) MSE=62379165.572\n",
      "ARIMA(0, 1, 0) MSE=1481413.136\n",
      "ARIMA(0, 1, 1) MSE=527868.379\n",
      "ARIMA(1, 0, 0) MSE=1545032.610\n",
      "ARIMA(1, 1, 0) MSE=427083.818\n",
      "ARIMA(1, 1, 1) MSE=304219.282\n",
      "ARIMA(2, 0, 1) MSE=305942.661\n",
      "ARIMA(2, 1, 0) MSE=359695.807\n",
      "ARIMA(2, 1, 1) MSE=311069.269\n",
      "Best ARIMA(1, 1, 1) MSE=304219.282\n",
      "64157\n",
      "ARIMA(0, 0, 0) MSE=1085569622.600\n",
      "ARIMA(0, 0, 1) MSE=277591612.261\n",
      "ARIMA(0, 1, 0) MSE=1978434.756\n",
      "ARIMA(0, 1, 1) MSE=953431.830\n",
      "ARIMA(1, 0, 0) MSE=2300447.010\n",
      "ARIMA(1, 1, 0) MSE=860686.761\n",
      "ARIMA(1, 1, 1) MSE=742147.112\n",
      "ARIMA(2, 0, 1) MSE=759729.718\n",
      "ARIMA(2, 1, 0) MSE=797181.245\n",
      "ARIMA(2, 1, 1) MSE=750168.945\n",
      "Best ARIMA(1, 1, 1) MSE=742147.112\n",
      "64110\n",
      "ARIMA(0, 0, 0) MSE=984075017.408\n",
      "ARIMA(0, 0, 1) MSE=248534682.327\n",
      "ARIMA(0, 1, 0) MSE=4549252.019\n",
      "ARIMA(0, 1, 1) MSE=1569944.757\n",
      "ARIMA(1, 0, 0) MSE=4647083.143\n",
      "ARIMA(1, 1, 0) MSE=1491652.228\n",
      "ARIMA(2, 0, 0) MSE=1488429.552\n",
      "ARIMA(2, 1, 0) MSE=1078731.058\n",
      "ARIMA(2, 1, 1) MSE=887691.723\n",
      "Best ARIMA(2, 1, 1) MSE=887691.723\n",
      "64117\n",
      "ARIMA(0, 0, 0) MSE=59823991.760\n",
      "ARIMA(0, 0, 1) MSE=15442607.750\n",
      "ARIMA(0, 1, 0) MSE=973520.515\n",
      "ARIMA(0, 1, 1) MSE=363420.069\n",
      "ARIMA(1, 0, 0) MSE=993169.888\n",
      "ARIMA(1, 1, 0) MSE=389622.452\n",
      "ARIMA(1, 1, 1) MSE=281020.372\n",
      "ARIMA(2, 0, 0) MSE=390467.961\n",
      "ARIMA(2, 0, 1) MSE=282056.524\n",
      "ARIMA(2, 1, 0) MSE=364573.977\n",
      "ARIMA(2, 1, 1) MSE=293626.571\n",
      "Best ARIMA(1, 1, 1) MSE=281020.372\n",
      "66103\n",
      "ARIMA(0, 0, 0) MSE=343376948.190\n",
      "ARIMA(0, 0, 1) MSE=87690408.302\n",
      "ARIMA(0, 1, 0) MSE=2098837.662\n",
      "ARIMA(0, 1, 1) MSE=806242.831\n",
      "ARIMA(1, 0, 0) MSE=2217390.475\n",
      "ARIMA(1, 1, 0) MSE=758674.626\n",
      "ARIMA(1, 1, 1) MSE=543321.274\n",
      "ARIMA(2, 0, 0) MSE=764257.734\n",
      "ARIMA(2, 0, 1) MSE=548192.959\n",
      "ARIMA(2, 1, 0) MSE=670996.997\n",
      "ARIMA(2, 1, 1) MSE=559347.307\n",
      "Best ARIMA(1, 1, 1) MSE=543321.274\n",
      "64112\n",
      "ARIMA(0, 0, 0) MSE=3102533072.448\n",
      "ARIMA(0, 0, 1) MSE=790913339.464\n",
      "ARIMA(0, 1, 0) MSE=6056556.781\n",
      "ARIMA(0, 1, 1) MSE=2549875.094\n",
      "ARIMA(1, 0, 0) MSE=6515770.433\n",
      "ARIMA(1, 1, 0) MSE=2872199.441\n",
      "ARIMA(1, 1, 1) MSE=1904775.019\n",
      "ARIMA(2, 0, 0) MSE=2936610.063\n",
      "ARIMA(2, 0, 1) MSE=1976315.188\n",
      "ARIMA(2, 1, 0) MSE=2263884.010\n",
      "ARIMA(2, 1, 1) MSE=1877795.124\n",
      "Best ARIMA(2, 1, 1) MSE=1877795.124\n",
      "66112\n",
      "ARIMA(0, 0, 0) MSE=213645290.889\n",
      "ARIMA(0, 0, 1) MSE=55089523.326\n",
      "ARIMA(0, 1, 0) MSE=1295061.397\n",
      "ARIMA(0, 1, 1) MSE=554812.713\n",
      "ARIMA(1, 0, 0) MSE=1412608.918\n",
      "ARIMA(1, 1, 0) MSE=438699.160\n",
      "ARIMA(1, 1, 1) MSE=367293.675\n",
      "ARIMA(2, 0, 0) MSE=441231.188\n",
      "ARIMA(2, 0, 1) MSE=370320.533\n",
      "ARIMA(2, 1, 0) MSE=415043.094\n",
      "ARIMA(2, 1, 1) MSE=376985.125\n",
      "Best ARIMA(1, 1, 1) MSE=367293.675\n",
      "64154\n",
      "ARIMA(0, 0, 0) MSE=698619975.364\n",
      "ARIMA(0, 0, 1) MSE=177591663.464\n",
      "ARIMA(0, 1, 0) MSE=2455815.101\n",
      "ARIMA(0, 1, 1) MSE=808450.471\n",
      "ARIMA(1, 0, 0) MSE=2595022.332\n",
      "ARIMA(1, 1, 0) MSE=905958.551\n",
      "ARIMA(2, 0, 0) MSE=911340.392\n",
      "ARIMA(2, 1, 0) MSE=674685.064\n",
      "ARIMA(2, 1, 1) MSE=487282.692\n",
      "Best ARIMA(2, 1, 1) MSE=487282.692\n",
      "64108\n",
      "ARIMA(0, 0, 0) MSE=1729712739.844\n",
      "ARIMA(0, 0, 1) MSE=439333985.336\n",
      "ARIMA(0, 1, 0) MSE=4009170.393\n",
      "ARIMA(0, 1, 1) MSE=1509389.170\n",
      "ARIMA(1, 0, 0) MSE=4414299.775\n",
      "ARIMA(1, 1, 0) MSE=1372491.474\n",
      "ARIMA(1, 1, 1) MSE=986971.272\n",
      "ARIMA(2, 0, 0) MSE=1374109.014\n",
      "ARIMA(2, 0, 1) MSE=998631.183\n",
      "ARIMA(2, 1, 0) MSE=1143313.976\n",
      "ARIMA(2, 1, 1) MSE=1020623.520\n",
      "Best ARIMA(1, 1, 1) MSE=986971.272\n",
      "64113\n",
      "ARIMA(0, 0, 0) MSE=6315600546.710\n",
      "ARIMA(0, 0, 1) MSE=1606894556.240\n",
      "ARIMA(0, 1, 0) MSE=7808308.974\n",
      "ARIMA(0, 1, 1) MSE=2860230.853\n",
      "ARIMA(1, 0, 0) MSE=9282897.184\n",
      "ARIMA(1, 1, 0) MSE=2501230.035\n",
      "ARIMA(1, 1, 1) MSE=1727285.014\n",
      "ARIMA(2, 0, 0) MSE=2543366.022\n",
      "ARIMA(2, 1, 0) MSE=2043239.104\n",
      "Best ARIMA(1, 1, 1) MSE=1727285.014\n",
      "64106\n",
      "ARIMA(0, 0, 0) MSE=925684761.540\n",
      "ARIMA(0, 0, 1) MSE=235622708.291\n",
      "ARIMA(0, 1, 0) MSE=2880733.788\n",
      "ARIMA(0, 1, 1) MSE=1253214.131\n",
      "ARIMA(1, 0, 0) MSE=3043104.256\n",
      "ARIMA(1, 1, 0) MSE=1335622.848\n",
      "ARIMA(1, 1, 1) MSE=1025797.115\n",
      "ARIMA(2, 0, 1) MSE=1047934.932\n",
      "ARIMA(2, 1, 0) MSE=1244628.182\n",
      "ARIMA(2, 1, 1) MSE=1051288.496\n",
      "Best ARIMA(1, 1, 1) MSE=1025797.115\n",
      "64124\n",
      "ARIMA(0, 0, 0) MSE=32342507.850\n",
      "ARIMA(0, 0, 1) MSE=8132788.940\n",
      "ARIMA(0, 1, 0) MSE=898324.751\n",
      "ARIMA(0, 1, 1) MSE=389453.148\n",
      "ARIMA(1, 0, 0) MSE=889290.759\n",
      "ARIMA(1, 1, 0) MSE=458830.874\n",
      "ARIMA(1, 1, 1) MSE=352059.833\n",
      "ARIMA(2, 0, 0) MSE=457405.631\n",
      "ARIMA(2, 0, 1) MSE=352024.494\n",
      "ARIMA(2, 1, 0) MSE=418637.109\n",
      "ARIMA(2, 1, 1) MSE=364514.845\n",
      "Best ARIMA(2, 0, 1) MSE=352024.494\n",
      "64137\n",
      "ARIMA(0, 0, 0) MSE=156443588.099\n",
      "ARIMA(0, 0, 1) MSE=39966608.100\n",
      "ARIMA(0, 1, 0) MSE=1002359.131\n",
      "ARIMA(0, 1, 1) MSE=363517.372\n",
      "ARIMA(1, 0, 0) MSE=1058134.628\n",
      "ARIMA(1, 1, 0) MSE=315308.656\n"
     ]
    },
    {
     "name": "stdout",
     "output_type": "stream",
     "text": [
      "ARIMA(1, 1, 1) MSE=225963.580\n",
      "ARIMA(2, 0, 0) MSE=315311.063\n",
      "ARIMA(2, 0, 1) MSE=227134.652\n",
      "ARIMA(2, 1, 0) MSE=281724.451\n",
      "ARIMA(2, 1, 1) MSE=231416.459\n",
      "Best ARIMA(1, 1, 1) MSE=225963.580\n",
      "64105\n",
      "ARIMA(0, 0, 0) MSE=233439718.259\n",
      "ARIMA(0, 0, 1) MSE=59342038.307\n",
      "ARIMA(0, 1, 0) MSE=1685229.670\n",
      "ARIMA(0, 1, 1) MSE=734414.826\n",
      "ARIMA(1, 0, 0) MSE=1585561.399\n",
      "ARIMA(1, 1, 0) MSE=1016577.926\n",
      "ARIMA(1, 1, 1) MSE=682609.006\n",
      "ARIMA(2, 0, 0) MSE=1018268.790\n",
      "ARIMA(2, 0, 1) MSE=686752.896\n",
      "ARIMA(2, 1, 0) MSE=856858.046\n",
      "ARIMA(2, 1, 1) MSE=676616.762\n",
      "Best ARIMA(2, 1, 1) MSE=676616.762\n",
      "64129\n",
      "ARIMA(0, 0, 0) MSE=116257594.074\n",
      "ARIMA(0, 0, 1) MSE=28874146.911\n",
      "ARIMA(0, 1, 0) MSE=727670.750\n",
      "ARIMA(0, 1, 1) MSE=294036.101\n",
      "ARIMA(1, 0, 0) MSE=705104.698\n",
      "ARIMA(1, 1, 0) MSE=357629.389\n",
      "ARIMA(1, 1, 1) MSE=251863.181\n",
      "ARIMA(2, 0, 1) MSE=250819.286\n",
      "ARIMA(2, 1, 0) MSE=323110.471\n",
      "ARIMA(2, 1, 1) MSE=256519.700\n",
      "Best ARIMA(2, 0, 1) MSE=250819.286\n",
      "64123\n",
      "ARIMA(0, 0, 0) MSE=23137869.162\n",
      "ARIMA(0, 0, 1) MSE=5809465.250\n",
      "ARIMA(0, 1, 0) MSE=680250.676\n",
      "ARIMA(0, 1, 1) MSE=340062.338\n",
      "ARIMA(1, 0, 0) MSE=679806.239\n",
      "ARIMA(1, 1, 0) MSE=464566.705\n",
      "ARIMA(1, 1, 1) MSE=335517.778\n",
      "ARIMA(2, 0, 0) MSE=464087.269\n",
      "ARIMA(2, 0, 1) MSE=336980.487\n",
      "ARIMA(2, 1, 0) MSE=408912.597\n",
      "ARIMA(2, 1, 1) MSE=330272.639\n",
      "Best ARIMA(2, 1, 1) MSE=330272.639\n",
      "66111\n",
      "ARIMA(0, 0, 0) MSE=270700073.764\n",
      "ARIMA(0, 0, 1) MSE=68902081.186\n",
      "ARIMA(0, 1, 0) MSE=1522300.128\n",
      "ARIMA(0, 1, 1) MSE=583145.639\n",
      "ARIMA(1, 0, 0) MSE=1642704.646\n",
      "ARIMA(1, 1, 0) MSE=522273.996\n",
      "ARIMA(1, 1, 1) MSE=362812.034\n",
      "ARIMA(2, 0, 0) MSE=523006.138\n",
      "ARIMA(2, 0, 1) MSE=364750.120\n",
      "ARIMA(2, 1, 0) MSE=424415.423\n",
      "ARIMA(2, 1, 1) MSE=359336.055\n",
      "Best ARIMA(2, 1, 1) MSE=359336.055\n",
      "64126\n",
      "ARIMA(0, 0, 0) MSE=9302438.448\n",
      "ARIMA(0, 0, 1) MSE=2572034.202\n",
      "ARIMA(0, 1, 0) MSE=1011228.625\n",
      "ARIMA(0, 1, 1) MSE=484736.721\n",
      "ARIMA(1, 0, 0) MSE=982513.641\n",
      "ARIMA(1, 1, 0) MSE=751156.561\n",
      "ARIMA(2, 0, 0) MSE=749276.894\n",
      "ARIMA(2, 1, 0) MSE=649879.036\n",
      "ARIMA(2, 1, 1) MSE=494761.931\n",
      "Best ARIMA(0, 1, 1) MSE=484736.721\n",
      "64156\n",
      "ARIMA(0, 0, 0) MSE=1987314352.207\n",
      "ARIMA(0, 0, 1) MSE=509258509.272\n",
      "ARIMA(0, 1, 0) MSE=5396842.954\n",
      "ARIMA(0, 1, 1) MSE=3192384.003\n",
      "ARIMA(1, 0, 0) MSE=10266588.810\n",
      "ARIMA(1, 1, 0) MSE=2560744.697\n",
      "ARIMA(1, 1, 1) MSE=2610064.022\n",
      "ARIMA(2, 0, 0) MSE=4567042.631\n",
      "ARIMA(2, 0, 1) MSE=4574804.121\n",
      "ARIMA(2, 1, 0) MSE=2904981.488\n",
      "ARIMA(2, 1, 1) MSE=2826921.785\n",
      "Best ARIMA(1, 1, 0) MSE=2560744.697\n",
      "64153\n",
      "ARIMA(0, 0, 0) MSE=405425066.508\n",
      "ARIMA(0, 0, 1) MSE=104406824.447\n",
      "ARIMA(0, 1, 0) MSE=1632733.615\n",
      "ARIMA(0, 1, 1) MSE=683477.576\n",
      "ARIMA(1, 0, 0) MSE=1767352.797\n",
      "ARIMA(1, 1, 0) MSE=713363.680\n",
      "ARIMA(1, 1, 1) MSE=501070.502\n",
      "ARIMA(2, 1, 0) MSE=556128.582\n",
      "ARIMA(2, 1, 1) MSE=487084.001\n",
      "Best ARIMA(2, 1, 1) MSE=487084.001\n",
      "64158\n",
      "ARIMA(0, 0, 0) MSE=535971325.519\n",
      "ARIMA(0, 0, 1) MSE=138847679.179\n",
      "ARIMA(0, 1, 0) MSE=1801796.522\n",
      "ARIMA(0, 1, 1) MSE=697578.679\n",
      "ARIMA(1, 0, 0) MSE=2061480.728\n",
      "ARIMA(1, 1, 0) MSE=795279.486\n",
      "ARIMA(1, 1, 1) MSE=581202.629\n",
      "ARIMA(2, 0, 0) MSE=810237.160\n",
      "ARIMA(2, 1, 0) MSE=808510.991\n",
      "ARIMA(2, 1, 1) MSE=620524.468\n",
      "Best ARIMA(1, 1, 1) MSE=581202.629\n",
      "64145\n",
      "ARIMA(0, 0, 0) MSE=698416407.048\n",
      "ARIMA(0, 0, 1) MSE=181022940.882\n",
      "ARIMA(0, 1, 0) MSE=3728323.303\n",
      "ARIMA(0, 1, 1) MSE=1391958.910\n",
      "ARIMA(1, 0, 0) MSE=4119127.706\n",
      "ARIMA(1, 1, 0) MSE=1048360.639\n",
      "ARIMA(2, 0, 0) MSE=1059684.748\n",
      "ARIMA(2, 1, 0) MSE=983785.155\n",
      "ARIMA(2, 1, 1) MSE=800960.941\n",
      "Best ARIMA(2, 1, 1) MSE=800960.941\n",
      "64136\n",
      "ARIMA(0, 0, 0) MSE=89624739.896\n",
      "ARIMA(0, 0, 1) MSE=23065188.384\n",
      "ARIMA(0, 1, 0) MSE=1302823.292\n",
      "ARIMA(0, 1, 1) MSE=516083.836\n",
      "ARIMA(1, 0, 0) MSE=1330663.866\n",
      "ARIMA(1, 1, 0) MSE=524851.031\n",
      "ARIMA(1, 1, 1) MSE=377390.264\n",
      "ARIMA(2, 0, 0) MSE=524826.288\n",
      "ARIMA(2, 0, 1) MSE=378563.310\n",
      "ARIMA(2, 1, 0) MSE=415251.678\n",
      "ARIMA(2, 1, 1) MSE=372776.898\n",
      "Best ARIMA(2, 1, 1) MSE=372776.898\n",
      "64125\n",
      "ARIMA(0, 0, 0) MSE=14948908.061\n",
      "ARIMA(0, 0, 1) MSE=3741717.912\n",
      "ARIMA(0, 1, 0) MSE=748214.552\n",
      "ARIMA(0, 1, 1) MSE=351609.228\n",
      "ARIMA(1, 0, 0) MSE=721007.484\n",
      "ARIMA(1, 1, 0) MSE=511892.501\n",
      "ARIMA(1, 1, 1) MSE=345514.503\n",
      "ARIMA(2, 0, 0) MSE=511035.828\n",
      "ARIMA(2, 1, 0) MSE=424887.638\n",
      "ARIMA(2, 1, 1) MSE=345409.487\n",
      "Best ARIMA(2, 1, 1) MSE=345409.487\n",
      "64139\n",
      "ARIMA(0, 0, 0) MSE=773593906.519\n",
      "ARIMA(0, 0, 1) MSE=199269420.426\n",
      "ARIMA(0, 1, 0) MSE=2885219.471\n",
      "ARIMA(0, 1, 1) MSE=1131444.680\n",
      "ARIMA(1, 0, 0) MSE=3189163.259\n",
      "ARIMA(1, 1, 0) MSE=1003659.597\n",
      "ARIMA(1, 1, 1) MSE=734503.934\n",
      "ARIMA(2, 0, 0) MSE=1016866.053\n",
      "ARIMA(2, 0, 1) MSE=745325.025\n",
      "ARIMA(2, 1, 0) MSE=849916.836\n",
      "ARIMA(2, 1, 1) MSE=752767.193\n",
      "Best ARIMA(1, 1, 1) MSE=734503.934\n",
      "64146\n",
      "ARIMA(0, 0, 0) MSE=138493454.959\n",
      "ARIMA(0, 0, 1) MSE=35488321.406\n",
      "ARIMA(0, 1, 0) MSE=1854495.736\n",
      "ARIMA(0, 1, 1) MSE=747863.172\n",
      "ARIMA(1, 0, 0) MSE=1860432.815\n",
      "ARIMA(1, 1, 0) MSE=599299.334\n",
      "ARIMA(1, 1, 1) MSE=456711.515\n",
      "ARIMA(2, 0, 0) MSE=599686.698\n",
      "ARIMA(2, 0, 1) MSE=457338.153\n",
      "ARIMA(2, 1, 0) MSE=511273.913\n",
      "ARIMA(2, 1, 1) MSE=463110.939\n",
      "Best ARIMA(1, 1, 1) MSE=456711.515\n"
     ]
    }
   ],
   "source": [
    "roi_list = {}\n",
    "for index, x in df[df['City'] == 'Kansas City'].iterrows():\n",
    "    print(x['RegionName'])\n",
    "    series = melt_data(df.loc[[index]])\n",
    "    # evaluate parameters\n",
    "    p_values = [0, 1, 2]\n",
    "    d_values = range(0, 2)\n",
    "    q_values = range(0, 2)\n",
    "    warnings.filterwarnings(\"ignore\")\n",
    "    \n",
    "    order = evaluate_models(series.values, p_values, d_values, q_values)\n",
    "    \n",
    "    model= ARIMA(series, order=order)\n",
    "    model_fit= model.fit()\n",
    "    six_months = model_fit.forecast(steps=36)[0][-1]\n",
    "    today = series.iloc[-1].value\n",
    "    roi = (six_months - today)/today\n",
    "    roi_list[x['RegionName']] = roi"
   ]
  },
  {
   "cell_type": "code",
   "execution_count": 42,
   "metadata": {},
   "outputs": [
    {
     "data": {
      "text/plain": [
       "{64119: 0.05679732209422842,\n",
       " 64114: 0.1192970729762698,\n",
       " 64151: 0.05905026321941397,\n",
       " 64111: 0.09693136094924668,\n",
       " 66102: 0.01407573960837967,\n",
       " 64131: 0.04546284263701976,\n",
       " 66104: 0.0017268933293670607,\n",
       " 64155: 0.06257263719843865,\n",
       " 66109: 0.07817196811403077,\n",
       " 64134: 0.04056394230247112,\n",
       " 64116: 0.07975137309361202,\n",
       " 66106: 0.1373985358861824,\n",
       " 64157: 0.06528310078178046,\n",
       " 64110: 0.08353030324922359,\n",
       " 64117: 0.06822308914977174,\n",
       " 66103: 0.10155508045775981,\n",
       " 64112: 0.10592691843828653,\n",
       " 66112: 0.08488559860951322,\n",
       " 64154: 0.04150743227539524,\n",
       " 64108: 0.03203111596063606,\n",
       " 64113: 0.08080219700287117,\n",
       " 64106: 0.14737096179258374,\n",
       " 64124: 0.0067724159021344005,\n",
       " 64137: 0.06481306716880608,\n",
       " 64105: 0.06870997231295099,\n",
       " 64129: -0.01684479110929328,\n",
       " 64123: 0.05745865294676608,\n",
       " 66111: 0.06020684041017004,\n",
       " 64126: 0.06094194217722193,\n",
       " 64156: 0.06920193050296697,\n",
       " 64153: 0.05623209319876416,\n",
       " 64158: 0.06907822253949673,\n",
       " 64145: 0.09720449413548049,\n",
       " 64136: 0.04962982541605204,\n",
       " 64125: 0.05666884598152787,\n",
       " 64139: 0.09670521678169679,\n",
       " 64146: 0.044572768695209576}"
      ]
     },
     "execution_count": 42,
     "metadata": {},
     "output_type": "execute_result"
    }
   ],
   "source": [
    "roi_list"
   ]
  },
  {
   "cell_type": "code",
   "execution_count": 47,
   "metadata": {},
   "outputs": [
    {
     "name": "stdout",
     "output_type": "stream",
     "text": [
      "64106 0.14737096179258374\n",
      "66106 0.1373985358861824\n",
      "64114 0.1192970729762698\n",
      "64112 0.10592691843828653\n",
      "66103 0.10155508045775981\n",
      "64145 0.09720449413548049\n",
      "64111 0.09693136094924668\n",
      "64139 0.09670521678169679\n",
      "66112 0.08488559860951322\n",
      "64110 0.08353030324922359\n",
      "64113 0.08080219700287117\n",
      "64116 0.07975137309361202\n",
      "66109 0.07817196811403077\n",
      "64156 0.06920193050296697\n",
      "64158 0.06907822253949673\n",
      "64105 0.06870997231295099\n",
      "64117 0.06822308914977174\n",
      "64157 0.06528310078178046\n",
      "64137 0.06481306716880608\n",
      "64155 0.06257263719843865\n",
      "64126 0.06094194217722193\n",
      "66111 0.06020684041017004\n",
      "64151 0.05905026321941397\n",
      "64123 0.05745865294676608\n",
      "64119 0.05679732209422842\n",
      "64125 0.05666884598152787\n",
      "64153 0.05623209319876416\n",
      "64136 0.04962982541605204\n",
      "64131 0.04546284263701976\n",
      "64146 0.044572768695209576\n",
      "64154 0.04150743227539524\n",
      "64134 0.04056394230247112\n",
      "64108 0.03203111596063606\n",
      "66102 0.01407573960837967\n",
      "64124 0.0067724159021344005\n",
      "66104 0.0017268933293670607\n",
      "64129 -0.01684479110929328\n"
     ]
    }
   ],
   "source": [
    "s = [(k, roi_list[k]) for k in sorted(roi_list, key=roi_list.get, reverse=True)]\n",
    "for k, v in s:\n",
    "    print(k, v)"
   ]
  },
  {
   "cell_type": "code",
   "execution_count": 50,
   "metadata": {},
   "outputs": [
    {
     "data": {
      "text/plain": [
       "[(64106, 0.14737096179258374),\n",
       " (66106, 0.1373985358861824),\n",
       " (64114, 0.1192970729762698),\n",
       " (64112, 0.10592691843828653),\n",
       " (66103, 0.10155508045775981)]"
      ]
     },
     "execution_count": 50,
     "metadata": {},
     "output_type": "execute_result"
    }
   ],
   "source": [
    "s[:5]"
   ]
  },
  {
   "cell_type": "code",
   "execution_count": null,
   "metadata": {
    "scrolled": true
   },
   "outputs": [],
   "source": [
    "pd.DataFrame(df.loc[index])"
   ]
  },
  {
   "cell_type": "code",
   "execution_count": null,
   "metadata": {},
   "outputs": [],
   "source": [
    "melt_data(df.loc[[index]])"
   ]
  },
  {
   "cell_type": "code",
   "execution_count": null,
   "metadata": {},
   "outputs": [],
   "source": [
    "melt_data(pd.DataFrame(x))"
   ]
  },
  {
   "cell_type": "markdown",
   "metadata": {},
   "source": [
    "# Step 2: Data Preprocessing"
   ]
  },
  {
   "cell_type": "code",
   "execution_count": null,
   "metadata": {},
   "outputs": [],
   "source": [
    "def get_datetimes(df):\n",
    "    return pd.to_datetime(df.columns.values[1:], format='%Y-%m')"
   ]
  },
  {
   "cell_type": "code",
   "execution_count": null,
   "metadata": {},
   "outputs": [],
   "source": []
  },
  {
   "cell_type": "code",
   "execution_count": null,
   "metadata": {},
   "outputs": [],
   "source": []
  },
  {
   "cell_type": "code",
   "execution_count": null,
   "metadata": {},
   "outputs": [],
   "source": []
  },
  {
   "cell_type": "code",
   "execution_count": null,
   "metadata": {},
   "outputs": [],
   "source": []
  },
  {
   "cell_type": "markdown",
   "metadata": {},
   "source": [
    "# Step 3: EDA and Visualization"
   ]
  },
  {
   "cell_type": "code",
   "execution_count": null,
   "metadata": {},
   "outputs": [],
   "source": [
    "font = {'family' : 'normal',\n",
    "        'weight' : 'bold',\n",
    "        'size'   : 22}\n",
    "\n",
    "matplotlib.rc('font', **font)\n",
    "\n",
    "# NOTE: if you visualizations are too cluttered to read, try calling 'plt.gcf().autofmt_xdate()'!"
   ]
  },
  {
   "cell_type": "code",
   "execution_count": null,
   "metadata": {},
   "outputs": [],
   "source": []
  },
  {
   "cell_type": "code",
   "execution_count": null,
   "metadata": {},
   "outputs": [],
   "source": []
  },
  {
   "cell_type": "code",
   "execution_count": null,
   "metadata": {},
   "outputs": [],
   "source": []
  },
  {
   "cell_type": "markdown",
   "metadata": {},
   "source": [
    "# Step 4: Reshape from Wide to Long Format"
   ]
  },
  {
   "cell_type": "code",
   "execution_count": null,
   "metadata": {},
   "outputs": [],
   "source": [
    "def melt_data(df):\n",
    "    melted = pd.melt(df, id_vars=['RegionName', 'City', 'State', 'Metro', 'CountyName'], var_name='time')\n",
    "    melted['time'] = pd.to_datetime(melted['time'], infer_datetime_format=True)\n",
    "    melted = melted.dropna(subset=['value'])\n",
    "    return melted.groupby('time').aggregate({'value':'mean'})"
   ]
  },
  {
   "cell_type": "code",
   "execution_count": null,
   "metadata": {
    "scrolled": true
   },
   "outputs": [],
   "source": [
    "melt_data(df)"
   ]
  },
  {
   "cell_type": "code",
   "execution_count": null,
   "metadata": {},
   "outputs": [],
   "source": [
    "chicago = df[df['RegionName'] == 60657]\n",
    "chicago"
   ]
  },
  {
   "cell_type": "code",
   "execution_count": null,
   "metadata": {},
   "outputs": [],
   "source": [
    "chicago_time.describe()"
   ]
  },
  {
   "cell_type": "code",
   "execution_count": null,
   "metadata": {
    "scrolled": true
   },
   "outputs": [],
   "source": [
    "chicago_time = melt_data(chicago)"
   ]
  },
  {
   "cell_type": "code",
   "execution_count": null,
   "metadata": {},
   "outputs": [],
   "source": [
    "chicago_time.plot(figsize=(12,8));"
   ]
  },
  {
   "cell_type": "code",
   "execution_count": null,
   "metadata": {},
   "outputs": [],
   "source": [
    "def test_stationarity(timeseries):\n",
    "    #Determing rolling statistics\n",
    "    rolmean = timeseries.rolling(window=12).mean()\n",
    "    rolstd = timeseries.rolling(window=12).std()\n",
    "\n",
    "    #Plot rolling statistics:\n",
    "    plt.figure(figsize=(12,8))\n",
    "    orig = plt.plot(timeseries, color='blue',label='Original')\n",
    "    mean = plt.plot(rolmean, color='red', label='Rolling Mean')\n",
    "    std = plt.plot(rolstd, color='black', label = 'Rolling Std')\n",
    "    plt.legend(loc='best')\n",
    "    plt.title('Rolling Mean & Standard Deviation')\n",
    "    plt.show(block=False)"
   ]
  },
  {
   "cell_type": "code",
   "execution_count": null,
   "metadata": {},
   "outputs": [],
   "source": [
    "test_stationarity(chicago_time)"
   ]
  },
  {
   "cell_type": "code",
   "execution_count": null,
   "metadata": {},
   "outputs": [],
   "source": [
    "chicago_diff = chicago_time.diff()\n",
    "chicago_diff.plot(figsize=(12,8));"
   ]
  },
  {
   "cell_type": "code",
   "execution_count": null,
   "metadata": {},
   "outputs": [],
   "source": [
    "chicago_diff1 = chicago_diff.diff()\n",
    "chicago_diff1.plot(figsize=(12,8));"
   ]
  },
  {
   "cell_type": "code",
   "execution_count": null,
   "metadata": {},
   "outputs": [],
   "source": [
    "chicago_diff2 = chicago_diff1.diff()\n",
    "chicago_diff2.plot(figsize=(12,8));"
   ]
  },
  {
   "cell_type": "code",
   "execution_count": null,
   "metadata": {},
   "outputs": [],
   "source": [
    "chicago_2009_onwards = chicago_time['2009': '2018']\n",
    "print(chicago_2009_onwards.head())"
   ]
  },
  {
   "cell_type": "code",
   "execution_count": null,
   "metadata": {
    "scrolled": true
   },
   "outputs": [],
   "source": [
    "chicago_2009_onwards.plot(figsize=(12,8))"
   ]
  },
  {
   "cell_type": "code",
   "execution_count": null,
   "metadata": {},
   "outputs": [],
   "source": [
    "chicago_2009_onwards.plot(figsize = (20,6), style = \".b\");"
   ]
  },
  {
   "cell_type": "code",
   "execution_count": null,
   "metadata": {},
   "outputs": [],
   "source": [
    "year_groups = chicago_2009_onwards.groupby(pd.Grouper(freq ='A'))"
   ]
  },
  {
   "cell_type": "code",
   "execution_count": null,
   "metadata": {},
   "outputs": [],
   "source": [
    "len(year_groups)"
   ]
  },
  {
   "cell_type": "code",
   "execution_count": null,
   "metadata": {},
   "outputs": [],
   "source": []
  },
  {
   "cell_type": "code",
   "execution_count": null,
   "metadata": {},
   "outputs": [],
   "source": [
    "for yr, group in year_groups:\n",
    "    print(group.values.ravel())\n",
    "    "
   ]
  },
  {
   "cell_type": "code",
   "execution_count": null,
   "metadata": {},
   "outputs": [],
   "source": [
    "chicago_annual"
   ]
  },
  {
   "cell_type": "code",
   "execution_count": null,
   "metadata": {
    "scrolled": true
   },
   "outputs": [],
   "source": [
    "chicago_2009_onwards.head()"
   ]
  },
  {
   "cell_type": "code",
   "execution_count": null,
   "metadata": {},
   "outputs": [],
   "source": [
    "chicago_2009_onwards['Month'] = chicago_2009_onwards.index.month"
   ]
  },
  {
   "cell_type": "code",
   "execution_count": null,
   "metadata": {
    "scrolled": false
   },
   "outputs": [],
   "source": [
    "chicago_2009_onwards.head()"
   ]
  },
  {
   "cell_type": "code",
   "execution_count": null,
   "metadata": {},
   "outputs": [],
   "source": [
    "chicago_2009_onwards.groupby('Month')['value'].mean().plot(kind='line')"
   ]
  },
  {
   "cell_type": "code",
   "execution_count": null,
   "metadata": {},
   "outputs": [],
   "source": [
    "chicago_annual = pd.DataFrame()\n",
    "\n",
    "for yr, group in year_groups:\n",
    "    print(yr)\n",
    "    chicago_annual[yr] = group.values.ravel()\n",
    "    \n",
    "# Plot the yearly groups as subplots\n",
    "chicago_annual.plot(figsize = (13,8), subplots=True, legend=True);"
   ]
  },
  {
   "cell_type": "code",
   "execution_count": null,
   "metadata": {},
   "outputs": [],
   "source": []
  },
  {
   "cell_type": "markdown",
   "metadata": {},
   "source": [
    "# Step 5: ARIMA Modeling"
   ]
  },
  {
   "cell_type": "code",
   "execution_count": null,
   "metadata": {
    "scrolled": true
   },
   "outputs": [],
   "source": [
    "# evaluate an ARIMA model for a given order (p,d,q)\n",
    "def evaluate_arima_model(X, arima_order):\n",
    "\t# prepare training dataset\n",
    "\ttrain_size = int(len(X) * 0.66)\n",
    "\ttrain, test = X[0:train_size], X[train_size:]\n",
    "\thistory = [x for x in train]\n",
    "\t# make predictions\n",
    "\tpredictions = list()\n",
    "\tfor t in range(len(test)):\n",
    "\t\tmodel = ARIMA(history, order=arima_order)\n",
    "\t\tmodel_fit = model.fit(disp=0)\n",
    "\t\tyhat = model_fit.forecast()[0]\n",
    "\t\tpredictions.append(yhat)\n",
    "\t\thistory.append(test[t])\n",
    "\t# calculate out of sample error\n",
    "\terror = mean_squared_error(test, predictions)\n",
    "\treturn error\n",
    " \n",
    "# evaluate combinations of p, d and q values for an ARIMA model\n",
    "def evaluate_models(dataset, p_values, d_values, q_values):\n",
    "\tdataset = dataset.astype('float32')\n",
    "\tbest_score, best_cfg = float(\"inf\"), None\n",
    "\tfor p in p_values:\n",
    "\t\tfor d in d_values:\n",
    "\t\t\tfor q in q_values:\n",
    "\t\t\t\torder = (p,d,q)\n",
    "\t\t\t\ttry:\n",
    "\t\t\t\t\tmse = evaluate_arima_model(dataset, order)\n",
    "\t\t\t\t\tif mse < best_score:\n",
    "\t\t\t\t\t\tbest_score, best_cfg = mse, order\n",
    "\t\t\t\t\tprint('ARIMA%s MSE=%.3f' % (order,mse))\n",
    "\t\t\t\texcept:\n",
    "\t\t\t\t\tcontinue\n",
    "\tprint('Best ARIMA%s MSE=%.3f' % (best_cfg, best_score))\n",
    " \n",
    "series = chicago_time\n",
    "# evaluate parameters\n",
    "p_values = [0, 1, 2, 4, 6, 8, 10]\n",
    "d_values = range(0, 3)\n",
    "q_values = range(0, 3)\n",
    "warnings.filterwarnings(\"ignore\")\n",
    "evaluate_models(series.values, p_values, d_values, q_values)"
   ]
  },
  {
   "cell_type": "code",
   "execution_count": null,
   "metadata": {},
   "outputs": [],
   "source": []
  },
  {
   "cell_type": "code",
   "execution_count": null,
   "metadata": {},
   "outputs": [],
   "source": []
  },
  {
   "cell_type": "code",
   "execution_count": null,
   "metadata": {},
   "outputs": [],
   "source": []
  },
  {
   "cell_type": "code",
   "execution_count": null,
   "metadata": {},
   "outputs": [],
   "source": []
  },
  {
   "cell_type": "markdown",
   "metadata": {},
   "source": [
    "# Step 2: Data Preprocessing"
   ]
  },
  {
   "cell_type": "code",
   "execution_count": null,
   "metadata": {},
   "outputs": [],
   "source": [
    "def get_datetimes(df):\n",
    "    return pd.to_datetime(df.columns.values[1:], format='%Y-%m')"
   ]
  },
  {
   "cell_type": "code",
   "execution_count": null,
   "metadata": {},
   "outputs": [],
   "source": []
  },
  {
   "cell_type": "code",
   "execution_count": null,
   "metadata": {},
   "outputs": [],
   "source": []
  },
  {
   "cell_type": "code",
   "execution_count": null,
   "metadata": {},
   "outputs": [],
   "source": []
  },
  {
   "cell_type": "code",
   "execution_count": null,
   "metadata": {},
   "outputs": [],
   "source": []
  },
  {
   "cell_type": "code",
   "execution_count": null,
   "metadata": {},
   "outputs": [],
   "source": []
  },
  {
   "cell_type": "markdown",
   "metadata": {},
   "source": [
    "# Step 3: EDA and Visualization"
   ]
  },
  {
   "cell_type": "code",
   "execution_count": null,
   "metadata": {},
   "outputs": [],
   "source": [
    "font = {'family' : 'normal',\n",
    "        'weight' : 'bold',\n",
    "        'size'   : 22}\n",
    "\n",
    "matplotlib.rc('font', **font)\n",
    "\n",
    "# NOTE: if you visualizations are too cluttered to read, try calling 'plt.gcf().autofmt_xdate()'!"
   ]
  },
  {
   "cell_type": "code",
   "execution_count": null,
   "metadata": {},
   "outputs": [],
   "source": []
  },
  {
   "cell_type": "code",
   "execution_count": null,
   "metadata": {},
   "outputs": [],
   "source": []
  },
  {
   "cell_type": "code",
   "execution_count": null,
   "metadata": {},
   "outputs": [],
   "source": []
  },
  {
   "cell_type": "markdown",
   "metadata": {},
   "source": [
    "# Step 4: Reshape from Wide to Long Format"
   ]
  },
  {
   "cell_type": "code",
   "execution_count": null,
   "metadata": {},
   "outputs": [],
   "source": [
    "def melt_data(df):\n",
    "    melted = pd.melt(df, id_vars=['RegionName', 'City', 'State', 'Metro', 'CountyName'], var_name='time')\n",
    "    melted['time'] = pd.to_datetime(melted['time'], infer_datetime_format=True)\n",
    "    melted = melted.dropna(subset=['value'])\n",
    "    return melted.groupby('time').aggregate({'value':'mean'})"
   ]
  },
  {
   "cell_type": "code",
   "execution_count": null,
   "metadata": {},
   "outputs": [],
   "source": []
  },
  {
   "cell_type": "code",
   "execution_count": null,
   "metadata": {},
   "outputs": [],
   "source": []
  },
  {
   "cell_type": "code",
   "execution_count": null,
   "metadata": {},
   "outputs": [],
   "source": []
  },
  {
   "cell_type": "code",
   "execution_count": null,
   "metadata": {},
   "outputs": [],
   "source": []
  },
  {
   "cell_type": "markdown",
   "metadata": {},
   "source": [
    "# Step 5: ARIMA Modeling"
   ]
  },
  {
   "cell_type": "code",
   "execution_count": null,
   "metadata": {},
   "outputs": [],
   "source": []
  },
  {
   "cell_type": "code",
   "execution_count": null,
   "metadata": {},
   "outputs": [],
   "source": []
  },
  {
   "cell_type": "code",
   "execution_count": null,
   "metadata": {},
   "outputs": [],
   "source": []
  },
  {
   "cell_type": "code",
   "execution_count": null,
   "metadata": {},
   "outputs": [],
   "source": []
  },
  {
   "cell_type": "code",
   "execution_count": null,
   "metadata": {},
   "outputs": [],
   "source": []
  },
  {
   "cell_type": "code",
   "execution_count": null,
   "metadata": {},
   "outputs": [],
   "source": []
  },
  {
   "cell_type": "markdown",
   "metadata": {},
   "source": [
    "# Step 6: Interpreting Results"
   ]
  },
  {
   "cell_type": "code",
   "execution_count": null,
   "metadata": {},
   "outputs": [],
   "source": []
  },
  {
   "cell_type": "code",
   "execution_count": null,
   "metadata": {},
   "outputs": [],
   "source": []
  },
  {
   "cell_type": "code",
   "execution_count": null,
   "metadata": {},
   "outputs": [],
   "source": []
  },
  {
   "cell_type": "code",
   "execution_count": null,
   "metadata": {},
   "outputs": [],
   "source": []
  }
 ],
 "metadata": {
  "kernelspec": {
   "display_name": "Python 3",
   "language": "python",
   "name": "python3"
  },
  "language_info": {
   "codemirror_mode": {
    "name": "ipython",
    "version": 3
   },
   "file_extension": ".py",
   "mimetype": "text/x-python",
   "name": "python",
   "nbconvert_exporter": "python",
   "pygments_lexer": "ipython3",
   "version": "3.7.3"
  }
 },
 "nbformat": 4,
 "nbformat_minor": 2
}
